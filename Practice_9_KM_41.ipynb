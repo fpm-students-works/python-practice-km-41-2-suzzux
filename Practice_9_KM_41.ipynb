{
 "cells": [
  {
   "cell_type": "markdown",
   "metadata": {
    "id": "FMqboNwO4rVs"
   },
   "source": [
    "# **Курс \"Програмування на мові Python\"**"
   ]
  },
  {
   "cell_type": "markdown",
   "metadata": {
    "id": "A2T6MigL5Z06"
   },
   "source": [
    "## **Практичне зайняття №9**\n",
    "\n",
    "### Тема: \"Робота з функціями. Локальні та глобальні змінні\""
   ]
  },
  {
   "cell_type": "markdown",
   "metadata": {
    "id": "cfCdgK2zXm7e"
   },
   "source": [
    "### **Завдання 1 (3 бали)**\n",
    "\n",
    "**Підрахувати визначник матриці, використовуючи правило перестановок.**\n",
    "\n",
    "Функція random_matrix() призначена для створення квадратної матриці випадкових чисел. Її змінювати непотрібно.\n",
    "\n",
    "Приклад використання методу permutations() для створення списку перестановок також подається у комірці з кодом.\n",
    "\n",
    "1) Створити 3 функції: функцію створення списку перестановок, функцію підрахунку добутків та функцію підрахунку загальної суми.\n",
    "\n",
    "2) Кожна функція має супроводжуватись рядком документації, що буде коротко описувати її призначення.\n",
    "\n",
    "3) Розмірність квадратної матриці має вводитись користувачем з клавіатури. Підрахунки виконувати лише в тому разі, якщо користувач введе ціле додатне число.\n",
    "\n",
    "4) Загальний результат повинен підраховуватись за допомогою композиції функцій.\n",
    "\n",
    "За бажанням можна перевірити правильність роботи програми за допомогою функції np.linalg.det(a)."
   ]
  },
  {
   "cell_type": "code",
   "execution_count": 6,
   "metadata": {
    "id": "ifNX2M7LXm7f"
   },
   "outputs": [
    {
     "name": "stdout",
     "output_type": "stream",
     "text": [
      "[[2 5 4 0 3 2 0 4]\n",
      " [2 0 1 6 0 3 7 5]\n",
      " [6 6 8 4 3 4 3 2]\n",
      " [1 4 3 9 8 8 5 5]\n",
      " [4 0 0 4 9 2 5 3]\n",
      " [0 8 9 0 3 8 0 6]\n",
      " [9 2 3 7 4 1 7 2]\n",
      " [2 4 4 9 7 8 1 9]]\n",
      "425840\n",
      "425839.99999999936\n"
     ]
    }
   ],
   "source": [
    "import numpy as np\n",
    "import itertools\n",
    "\n",
    "def random_matrix(dim):\n",
    "    \"\"\"\n",
    "    The function generates dim x dim array of integers\n",
    "    between 0 and 10.\n",
    "    \"\"\"\n",
    "    matrix = np.random.randint(10, size = (dim, dim))\n",
    "    return matrix\n",
    "\n",
    "#Example of using permutations() method\n",
    "t = list(itertools.permutations('123', 3))\n",
    "\n",
    "while True:\n",
    "    try:\n",
    "        dim = int(input('Enter the dimension of the matrix: '))\n",
    "        if dim > 0:\n",
    "            matrix = random_matrix(dim)\n",
    "            print(matrix)\n",
    "            break\n",
    "        else:\n",
    "            print('Enter a positive integer.')\n",
    "    except ValueError:\n",
    "        print('Enter a positive integer.')\n",
    "\n",
    "def perm_list(dim):\n",
    "    '''\n",
    "    The function creates a list of permutations of values from 0 to a value 1 less than the dimension of the given matrix.\n",
    "    '''\n",
    "    perm_list = list(itertools.permutations(range(dim), dim))\n",
    "    return perm_list\n",
    "\n",
    "def element_product(perms, dim, matrix):\n",
    "    '''\n",
    "    The function calculates products of elements and determines their signs.\n",
    "    '''\n",
    "    for j_indices in perms:\n",
    "        perms.insert(perms.index(j_indices), list(j_indices))\n",
    "        perms.remove(j_indices)\n",
    "        \n",
    "    i_indices = []\n",
    "    for i in range(dim):\n",
    "        i_indices.append(i)\n",
    "        \n",
    "    det_additions = []\n",
    "    det_addition = 1\n",
    "    for j_indices in perms:\n",
    "        for i, j in zip(i_indices, j_indices):\n",
    "            det_addition = det_addition * matrix[i][j]\n",
    "        det_additions.append(int(det_addition))\n",
    "        det_addition = 1\n",
    "        \n",
    "    sign_list = []\n",
    "    inverse_number = 0\n",
    "    for j_indices in perms:\n",
    "        j_indices_sorted = j_indices[:]\n",
    "        j_indices_sorted.sort()\n",
    "        while True:\n",
    "            for i in range(len(j_indices) - 1):\n",
    "                if j_indices[i] > j_indices[i + 1]:\n",
    "                    j_indices[i], j_indices[i + 1] = j_indices[i + 1], j_indices[i]\n",
    "                    inverse_number += 1\n",
    "            if j_indices == j_indices_sorted:\n",
    "                break\n",
    "        if inverse_number % 2 == 0:\n",
    "            sign_list.append(1)\n",
    "        else:\n",
    "            sign_list.append(-1)\n",
    "        inverse_number = 0\n",
    "\n",
    "    signed_det_additions = []\n",
    "    for a, b in zip(sign_list, det_additions):\n",
    "        signed_det_additions.append(a * b)\n",
    "        \n",
    "    return signed_det_additions\n",
    "\n",
    "def sum(signed_det_additions):\n",
    "    '''\n",
    "    The function adds products to calculate the value of the determinant.\n",
    "    '''\n",
    "    determinant = 0\n",
    "    for det_addition in signed_det_additions:\n",
    "        determinant += det_addition\n",
    "    return determinant\n",
    "\n",
    "print(sum(element_product(perm_list(dim), dim, matrix)))\n",
    "print(np.linalg.det(matrix))"
   ]
  }
 ],
 "metadata": {
  "colab": {
   "collapsed_sections": [],
   "name": "Practice_7_KM-01_.ipynb",
   "provenance": []
  },
  "kernelspec": {
   "display_name": "Python 3",
   "language": "python",
   "name": "python3"
  },
  "language_info": {
   "codemirror_mode": {
    "name": "ipython",
    "version": 3
   },
   "file_extension": ".py",
   "mimetype": "text/x-python",
   "name": "python",
   "nbconvert_exporter": "python",
   "pygments_lexer": "ipython3",
   "version": "3.12.6"
  }
 },
 "nbformat": 4,
 "nbformat_minor": 0
}
