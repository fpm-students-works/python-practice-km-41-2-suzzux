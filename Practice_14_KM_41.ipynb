{
 "cells": [
  {
   "cell_type": "markdown",
   "metadata": {
    "id": "FMqboNwO4rVs"
   },
   "source": [
    "# **Курс \"Програмування на мові Python\"**"
   ]
  },
  {
   "cell_type": "markdown",
   "metadata": {
    "id": "A2T6MigL5Z06"
   },
   "source": [
    "## **Практичне зайняття №16**\n",
    "\n",
    "### Тема: \"Декоратори\""
   ]
  },
  {
   "cell_type": "markdown",
   "metadata": {},
   "source": [
    "### **Завдання 1 (3 бали)**\n",
    "\n",
    "Реалізуйте підрахунок площі трикутника з використанням декоратора, який перевірятиме можливість побудови трикутника з трьох введених користувачем сторін.\n",
    "\n",
    "1. Напишіть функцію area_calculation, яка підраховуватиме площу трикутника за трьома сторонами. Для підрахунку можете скористатись формулою Герона.\n",
    "\n",
    "2. Напишіть функцію check, яка перевірятиме правильність введених користувачем значень (значення мають бути додатними числами, не обов'язково цілими).\n",
    "\n",
    "3. Створіть декоратор triangle_ineq, який перевірятиме виконання нерівності трикутрика для трьох заданих користувачем сторін. Навісьте декоратор triangle_ineq на функція area_calculation та перевірте правильність роботи програми."
   ]
  },
  {
   "cell_type": "code",
   "execution_count": 1,
   "metadata": {},
   "outputs": [
    {
     "name": "stdout",
     "output_type": "stream",
     "text": [
      "8.181534085976786\n",
      "За введеними величинами сторін трикутника не виконується нерівність трикутника.\n",
      "Введено від'ємне значення.\n"
     ]
    }
   ],
   "source": [
    "def triangle_ineq(func):\n",
    "    def inner(a, b, c):\n",
    "        if a+b>c and b+c>a and a+c>b:\n",
    "            return func(a, b, c)\n",
    "        else:\n",
    "            return 'За введеними величинами сторін трикутника не виконується нерівність трикутника.'\n",
    "    return inner\n",
    "\n",
    "@triangle_ineq\n",
    "def area_calculation(a, b, c):\n",
    "    semiperimeter = (a + b + c)/2\n",
    "    area = (semiperimeter * (semiperimeter - a) * (semiperimeter - b) * (semiperimeter - c))**0.5\n",
    "    return area\n",
    "\n",
    "def check(a, b, c):\n",
    "    if a>0 and b>0 and c>0:\n",
    "        return True\n",
    "    else:\n",
    "        print(\"Введено від'ємне значення.\")\n",
    "        return False\n",
    "\n",
    "if check(4, 5, 8):\n",
    "    print(area_calculation(4, 5, 8))\n",
    "    \n",
    "if check(1, 5, 8):\n",
    "    print(area_calculation(1, 5, 8))\n",
    "    \n",
    "if check(-1, 5, 8):\n",
    "    print(area_calculation(-1, 5, 8))"
   ]
  }
 ],
 "metadata": {
  "colab": {
   "collapsed_sections": [],
   "name": "Practice_10-11_KM_01_.ipynb",
   "provenance": []
  },
  "kernelspec": {
   "display_name": "Python 3",
   "name": "python3"
  },
  "language_info": {
   "codemirror_mode": {
    "name": "ipython",
    "version": 3
   },
   "file_extension": ".py",
   "mimetype": "text/x-python",
   "name": "python",
   "nbconvert_exporter": "python",
   "pygments_lexer": "ipython3",
   "version": "3.12.6"
  }
 },
 "nbformat": 4,
 "nbformat_minor": 0
}
