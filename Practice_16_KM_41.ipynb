{
  "cells": [
    {
      "cell_type": "markdown",
      "metadata": {
        "id": "FMqboNwO4rVs"
      },
      "source": [
        "# **Курс \"Програмування на мові Python\"**"
      ]
    },
    {
      "cell_type": "markdown",
      "metadata": {
        "id": "A2T6MigL5Z06"
      },
      "source": [
        "## **Практичне зайняття №14**\n",
        "\n",
        "### Тема: \"Робота зі спеціальними форматами файлів\""
      ]
    },
    {
      "cell_type": "markdown",
      "metadata": {
        "id": "A34oz70eU463"
      },
      "source": [
        "### **Завдання 1 (1,5 бали)**\n",
        "\n",
        "Створіть CSV-файл, що буде містити від 5 до 10 пісень (творів) вашого улюбленого музиканта. Назва файлу - ім'я музиканта (композитора) або назва гурту.\n",
        "\n",
        "1. Обов'язково додайте до файлу рядок з назвами двох колонок (Song, Year) або (Composition, Year).\n",
        "\n",
        "2. Після запису файлу роздрукуйте назву файлу та усі наявні у файлі рядки (включно із заголовками).\n",
        "\n",
        "3. Для запису та зчитування рядків скористайтесь функціями csv.DictWriter() та csv.DictReader()."
      ]
    },
    {
      "cell_type": "code",
      "execution_count": 14,
      "metadata": {
        "id": "MEJIrG1GU463"
      },
      "outputs": [
        {
          "name": "stdout",
          "output_type": "stream",
          "text": [
            "Ado.txt\n",
            "Song Year Fleeting Lullaby 2022\n",
            "Shoka 2024\n",
            "RuLe 2024\n",
            "Ashura-chan 2021\n",
            "Tot Musica 2022\n",
            "Odo 2021\n",
            "DIGNITY 2024\n",
            "All Night Radio 2023\n",
            "Ussewa 2020\n",
            "Value 2024\n"
          ]
        }
      ],
      "source": [
        "import csv\n",
        "\n",
        "with open('Ado.txt', 'w', newline='') as ado:\n",
        "    fieldnames = ['Song', 'Year']\n",
        "    writer = csv.DictWriter(ado, fieldnames=fieldnames)\n",
        "    writer.writeheader()\n",
        "    writer.writerow({'Song': 'Fleeting Lullaby', 'Year': 2022})\n",
        "    writer.writerow({'Song': 'Shoka', 'Year': 2024})\n",
        "    writer.writerow({'Song': 'RuLe', 'Year': 2024})\n",
        "    writer.writerow({'Song': 'Ashura-chan', 'Year': 2021})\n",
        "    writer.writerow({'Song': 'Tot Musica', 'Year': 2022})\n",
        "    writer.writerow({'Song': 'Odo', 'Year': 2021})\n",
        "    writer.writerow({'Song': 'DIGNITY', 'Year': 2024})\n",
        "    writer.writerow({'Song': 'All Night Radio', 'Year': 2023})\n",
        "    writer.writerow({'Song': 'Ussewa', 'Year': 2020})\n",
        "    writer.writerow({'Song': 'Value', 'Year': 2024})\n",
        "    \n",
        "with open('Ado.txt', 'r', newline='') as ado:\n",
        "    print(ado.name)\n",
        "    reader = csv.DictReader(ado)\n",
        "    for heading in reader.fieldnames:\n",
        "        print(heading, end=' ')\n",
        "    for row in reader:\n",
        "        print(row['Song'], row['Year'])"
      ]
    },
    {
      "cell_type": "markdown",
      "metadata": {
        "id": "Jb-eSBsWU464"
      },
      "source": [
        "### **Завдання 2 (1,5 бали)**\n",
        "\n",
        "COCO Dataset - набір фотографій та анотацій до них. Його дуже часто використовують для тренування класифікаторів, призначених для розпізнавання об'єктів та визначення ключових точок на зображеннях.\n",
        "\n",
        "Завантажте файли з описом фотографій COCO Dataset за посиланням: [COCO Dataset](http://images.cocodataset.org/annotations/image_info_test2017.zip).\n",
        "\n",
        "Відкрийте файл image_info_test-dev2017.json. Інформація про фотографії з бази COCO міститься у полі \"images\". Інформація про категорії, на які розділені всі фотографії, міститься у полі \"categories\".\n",
        "\n",
        "1. Визначте кількість фотографій, інформацію про які можна знайти у цьому файлі (кількість елементів, що відповідають ключу \"images\").\n",
        "\n",
        "2. Визначте кількість наявних категорій (кількість елементів, що відповідають ключу \"categories\").\n",
        "\n",
        "3. Виведіть посилання на фотографію 000000000001.jpg (\"coco_url\"). Також виведіть висоту цієї фотографії (\"height\"), ширину (\"width\") та її ідентифікатор (\"id\").\n",
        "\n",
        "4. Виведіть назву фотографії з набільшим номером.\n",
        "\n",
        "Опис структури JSON-файлу для набору фотографій COCO можна знайти за посиланням: [Data format](https://cocodataset.org/#format-data).\n",
        "\n",
        "Щоб перевірити правильність результатів, у VS Code встановіть розширення JSON та відкрийте файл image_info_test-dev2017.json. Розширення автоматично визначає кількість елементів у кожному полі."
      ]
    },
    {
      "cell_type": "code",
      "execution_count": 45,
      "metadata": {},
      "outputs": [
        {
          "name": "stdout",
          "output_type": "stream",
          "text": [
            "Кількість фотографій: 20288\n",
            "Кількість наявних категорій: 80\n",
            "Посилання на фотографію 000000000001.jpg: http://images.cocodataset.org/test2017/000000000001.jpg\n",
            "Висота фотографії: 480; ширина фотографії: 640; ідентифікатор: 1\n",
            "Назва фотографії з найбільшим номером: 000000581918.jpg\n"
          ]
        }
      ],
      "source": [
        "import zipfile\n",
        "import json\n",
        "\n",
        "with zipfile.ZipFile('image_info_test2017.zip', 'r') as archive:\n",
        "    with archive.open('annotations/image_info_test-dev2017.json', 'r') as image_info:\n",
        "        image_dict = json.load(image_info)\n",
        "        print('Кількість фотографій:', len(image_dict['images']))\n",
        "        print('Кількість наявних категорій:', len(image_dict['categories']))\n",
        "        image_name = ''\n",
        "        id = 0\n",
        "        for image in image_dict['images']:\n",
        "            if image['file_name'] == '000000000001.jpg':\n",
        "                print(f'Посилання на фотографію {image['file_name']}: {image['coco_url']}')\n",
        "                print(f'Висота фотографії: {image['height']}; ширина фотографії: {image['width']}; ідентифікатор: {image['id']}')\n",
        "                \n",
        "            if int(image['id']) > id:\n",
        "                id = int(image['id'])\n",
        "                image_name = image['file_name']\n",
        "        print('Назва фотографії з найбільшим номером:', image_name)"
      ]
    }
  ],
  "metadata": {
    "colab": {
      "collapsed_sections": [],
      "name": "Practice_14_KM_01.ipynb",
      "provenance": []
    },
    "kernelspec": {
      "display_name": "Python 3",
      "name": "python3"
    },
    "language_info": {
      "codemirror_mode": {
        "name": "ipython",
        "version": 3
      },
      "file_extension": ".py",
      "mimetype": "text/x-python",
      "name": "python",
      "nbconvert_exporter": "python",
      "pygments_lexer": "ipython3",
      "version": "3.12.6"
    }
  },
  "nbformat": 4,
  "nbformat_minor": 0
}
