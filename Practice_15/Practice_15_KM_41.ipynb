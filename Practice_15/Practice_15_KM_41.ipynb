{
  "cells": [
    {
      "cell_type": "markdown",
      "metadata": {
        "id": "FMqboNwO4rVs"
      },
      "source": [
        "# **Курс \"Програмування на мові Python\"**"
      ]
    },
    {
      "cell_type": "markdown",
      "metadata": {
        "id": "A2T6MigL5Z06"
      },
      "source": [
        "## **Практичне зайняття №13**\n",
        "\n",
        "### Тема: \"Робота з файлами\""
      ]
    },
    {
      "cell_type": "markdown",
      "metadata": {
        "id": "cfCdgK2zXm7e"
      },
      "source": [
        "### **Завдання 1 (1,5 бали)**\n",
        "\n",
        "У 1939 році друком вийшов роман американського письменика Ернеста Вінсента Райта \"Ґетсбі\". Особливу увагу публіки він здобув через те, що письменник жодного разу не використав у романі літеру \"e\" (роман складається з більше ніж 50,000 слів), яка є найбільш вживаною літерою в англійській мові.\n",
        "\n",
        "Порахуйте кількість входжень кожної літери у текст роману. Виведіть список літер англійського алфавіту, а також інформацію про те, скільки відсотків від усіх літер тексту складає кожна літера алфавіту.\n",
        "\n",
        "Зауваження:\n",
        "\n",
        "1. Програма має ігнорувати будь-які символи, окрім літер.\n",
        "\n",
        "2. Переведіть усі літери у верхній або у нижній регістр.\n",
        "\n",
        "3. Під час виведення відсортуйте літери у порядку зменшення їхнього відсотка. Літера \"e\" має стояти на останньому місці у цьому списку (хоча кілька літер e там все ж таки зустрічається).\n",
        "\n",
        "4. Виведіть перші 5 та останні 5 літер відсортованого списку разом з відсотковими значеннями, що їм відповідають. Відсотки округліть до тисячних."
      ]
    },
    {
      "cell_type": "code",
      "execution_count": 3,
      "metadata": {
        "id": "u4-fHJJ6U462",
        "tags": [
          "outputPrepend"
        ]
      },
      "outputs": [
        {
          "name": "stdout",
          "output_type": "stream",
          "text": [
            "{'a': '10.952%', 'o': '10.419%', 'i': '8.825%', 'n': '8.597%', 't': '8.494%'} {'e': '0.002%', 'q': '0.051%', 'x': '0.079%', 'z': '0.107%', 'j': '0.23%'}\n"
          ]
        }
      ],
      "source": [
        "import string\n",
        "from itertools import islice\n",
        "\n",
        "with open('gadsby.txt') as gadsby:\n",
        "    gadsby_text = gadsby.read()\n",
        "\n",
        "gadsby_letter_list = []\n",
        "for letter in gadsby_text:\n",
        "    if letter.isalpha():\n",
        "        gadsby_letter_list.append(letter.lower())\n",
        "        \n",
        "alphabet = list(string.ascii_lowercase)\n",
        "occurrence_number = {}\n",
        "for letter in alphabet:\n",
        "   occurrence_number[letter] = gadsby_letter_list.count(letter)\n",
        "\n",
        "sorted_occurrence_number = dict(sorted(occurrence_number.items(), key=lambda x: x[1], reverse=True))\n",
        "\n",
        "top5 = dict(islice(sorted_occurrence_number.items(), 5))\n",
        "antitop5 = dict(islice(reversed(sorted_occurrence_number.items()), 5))\n",
        "\n",
        "top5_occurrence_percentage = {}\n",
        "antitop5_occurrence_percentage = {}\n",
        "for item in top5.items():\n",
        "    top5_occurrence_percentage[item[0]] = f'{round(item[1] / len(gadsby_letter_list) * 100, 3)}%'\n",
        "for item in antitop5.items():\n",
        "    antitop5_occurrence_percentage[item[0]] = f'{round(item[1] / len(gadsby_letter_list) * 100, 3)}%'\n",
        "    \n",
        "print(top5_occurrence_percentage, antitop5_occurrence_percentage)"
      ]
    },
    {
      "cell_type": "markdown",
      "metadata": {
        "id": "A34oz70eU463"
      },
      "source": [
        "### **Завдання 2 (1,5 бали)**\n",
        "\n",
        "Архів archive.zip містить 140 txt-файлів, в яких збережено інфорамцію про те, якими іменами називали дітей у США в період з 1880 по 2019 рік.\n",
        "\n",
        "Структура рядка кожного файлу така:\n",
        "\n",
        "*name,sex,number_of_occurrences*\n",
        "\n",
        "Напишіть програму, яка зчитуватиме кожен файл та визначатиме окремо чоловічі, окремо жіночі імена, що були найпопулярнішими хоча б в один з років. Далі програма повинна підраховувати, скільки разів кожне з цих імен ставало найпопулярнишим, та виводити ранжовані списки чоловічіх та жіночих імен у вигляді:\n",
        "\n",
        "```\n",
        "Michael 44\n",
        "John 44\n",
        "Robert 17\n",
        "...\n",
        "\n",
        "Mary 76\n",
        "Jennifer 15\n",
        "Emily 12\n",
        "...\n",
        "```"
      ]
    },
    {
      "cell_type": "code",
      "execution_count": 12,
      "metadata": {},
      "outputs": [
        {
          "name": "stdout",
          "output_type": "stream",
          "text": [
            "John 44\n",
            "Robert 17\n",
            "James 13\n",
            "Michael 44\n",
            "David 1\n",
            "Jacob 14\n",
            "Noah 4\n",
            "Liam 3\n",
            "\n",
            "Mary 76\n",
            "Linda 6\n",
            "Lisa 8\n",
            "Jennifer 15\n",
            "Jessica 9\n",
            "Ashley 2\n",
            "Emily 12\n",
            "Emma 6\n",
            "Isabella 2\n",
            "Sophia 3\n",
            "Olivia 1\n"
          ]
        }
      ],
      "source": [
        "from zipfile import ZipFile\n",
        "\n",
        "years = list(range(1880, 2020))\n",
        "female_names = {}\n",
        "male_names = {}\n",
        "\n",
        "with ZipFile('archive.zip') as archive:\n",
        "    for year in years:\n",
        "        with archive.open(f'yob{year}.txt') as f:\n",
        "            name_list = f.readlines()\n",
        "            for i in range(len(name_list)):\n",
        "                name_list[i] = name_list[i].decode('utf-8').split(',')\n",
        "            \n",
        "            if name_list[0][0] in female_names.keys():\n",
        "                female_names[name_list[0][0]] += 1\n",
        "            else:\n",
        "                female_names[name_list[0][0]] = 1\n",
        "            \n",
        "            i = 0\n",
        "            for name in name_list:\n",
        "                if 'M' in name:\n",
        "                    if name_list[i][0] in male_names.keys():\n",
        "                        male_names[name_list[i][0]] += 1\n",
        "                    else:\n",
        "                        male_names[name_list[i][0]] = 1\n",
        "                    break\n",
        "                i += 1\n",
        "for name in male_names.items():\n",
        "    print(*name)\n",
        "print()\n",
        "for name in female_names.items():\n",
        "    print(*name)"
      ]
    }
  ],
  "metadata": {
    "colab": {
      "collapsed_sections": [],
      "name": "Practice_14_KM_01.ipynb",
      "provenance": []
    },
    "kernelspec": {
      "display_name": "Python 3",
      "name": "python3"
    },
    "language_info": {
      "codemirror_mode": {
        "name": "ipython",
        "version": 3
      },
      "file_extension": ".py",
      "mimetype": "text/x-python",
      "name": "python",
      "nbconvert_exporter": "python",
      "pygments_lexer": "ipython3",
      "version": "3.12.6"
    }
  },
  "nbformat": 4,
  "nbformat_minor": 0
}
