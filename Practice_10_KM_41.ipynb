{
 "cells": [
  {
   "cell_type": "markdown",
   "metadata": {
    "id": "FMqboNwO4rVs"
   },
   "source": [
    "# **Курс \"Програмування на мові Python\"**"
   ]
  },
  {
   "cell_type": "markdown",
   "metadata": {
    "id": "A2T6MigL5Z06"
   },
   "source": [
    "## **Практичне зайняття №10**\n",
    "\n",
    "### Тема: \"Лямбда-функції. Функції вищих порядків\""
   ]
  },
  {
   "cell_type": "markdown",
   "metadata": {
    "id": "cfCdgK2zXm7e"
   },
   "source": [
    "### **Завдання 1 (1 бал)**\n",
    "\n",
    "Керівництво будівельної компанії вирішило підняти заробітні плати всім своїм працівникам на 30%. В залежності від спеціалізації та стажу працівники мають різну заробітну плату. Для підготовки звіту необхідно розрахувати нову заробітну плату для працівників компанії, а також суму індексації.\n",
    "\n",
    "Написати програму, яка буде генерувати таблицю для цього звіту. Початкова заробітна плата працівників подана у списку salary_list (у тисячах гривень). \n",
    "\n",
    "1. Для підрахунку невідомих значень повинні використовуватись вбудовані функції вищих порядків.\n",
    "\n",
    "2. Зарплата після індексації та сума індексації для працівників різних категорій повинні зберігатись у двох окремих списках. Порядок значень у кожному з нових списків повинен відповідати порядку значень у списку salary_list.\n",
    "\n",
    "3. Кожне підраховане числове значення має бути округлене до сотих.\n",
    "\n",
    "4. Дані повинні виводитись у вигляді:\n",
    "\n",
    "**Salary table:**\n",
    "\n",
    "**6.4 8.32 1.92**\n",
    "\n",
    "**9.35 12.16 2.81**\n",
    "\n",
    "**...**\n",
    "\n",
    "salary_list = [6.4, 9.35, 11.4, 14, 23.8, 28.15, 34.7]"
   ]
  },
  {
   "cell_type": "code",
   "execution_count": 11,
   "metadata": {
    "id": "ifNX2M7LXm7f"
   },
   "outputs": [
    {
     "name": "stdout",
     "output_type": "stream",
     "text": [
      "Salary table:\n",
      "6.4 8.32 1.92\n",
      "9.35 12.15 2.8\n",
      "11.4 14.82 3.42\n",
      "14 18.2 4.2\n",
      "23.8 30.94 7.14\n",
      "28.15 36.59 8.44\n",
      "34.7 45.11 10.41\n"
     ]
    }
   ],
   "source": [
    "salary_list = [6.4, 9.35, 11.4, 14, 23.8, 28.15, 34.7]\n",
    "new_salary_list = list(map(lambda x: round(x + 0.3*x, 2), salary_list))\n",
    "indexation_amount = list(map(lambda x, y: round(x - y, 2), new_salary_list, salary_list))\n",
    "\n",
    "print('Salary table:')\n",
    "result = list(zip(salary_list, new_salary_list, indexation_amount))\n",
    "for element in result:\n",
    "    print(*element)"
   ]
  },
  {
   "cell_type": "markdown",
   "metadata": {},
   "source": [
    "### **Завдання 2 (2 бали)**\n",
    "\n",
    "Зазвичай рік має 365 днів. Однак у високосні роки додається ще один день - 29 лютого. Правила визначення високосного року такі:\n",
    "\n",
    "- Будь-який рік, що ділиться на 400 - високосний.\n",
    "\n",
    "- З тих років, що залишились, будь-який рік, що ділиться на 100 - **не** високосний.\n",
    "\n",
    "- З тих років, що залишились, будь-який рік, що ділиться на 4 - високосний.\n",
    "\n",
    "- Усі інші роки, що залишились - **не** високосні.\n",
    "\n",
    "1) Створіть функцію, в якій за допомогою вбудованих функцій вищих порядків будуть визначатися високосні роки серед перелічених років у списку years. Створена функція має повертати список високосних років.\n",
    "\n",
    "2) Створіть функцію вищих порядків, яка прийматиме на вхід попередню функцію та визначатиме кількість днів у місяці. Також функція повинна приймати на вхід ще 2 параметри: ціле число від 1 до 12 (місяць) та рік, як ціле чотирицифрове число. Ці значення корисувач має вводити з клавіатури. Перевірку введених даних слід виконувати поза межами функцій."
   ]
  },
  {
   "cell_type": "code",
   "execution_count": 52,
   "metadata": {},
   "outputs": [
    {
     "name": "stdout",
     "output_type": "stream",
     "text": [
      "[2000, 1904, 1908, 1912, 1916, 1920, 1924, 1928, 1932, 1936, 1940, 1944, 1948, 1952, 1956, 1960, 1964, 1968, 1972, 1976, 1980, 1984, 1988, 1992, 1996, 2004, 2008, 2012, 2016, 2020]\n",
      "Число повинно належати відрізку [1; 12].\n",
      "Число повинно належати відрізку [1900; 2020].\n",
      "Введіть ціле число.\n",
      "Введіть ціле число.\n",
      "Число повинно належати відрізку [1900; 2020].\n",
      "Введіть ціле число.\n",
      "Введіть ціле число.\n",
      "Число повинно належати відрізку [1900; 2020].\n",
      "У 8 місяці 1958 року 31 днів.\n"
     ]
    }
   ],
   "source": [
    "import numpy as np\n",
    "\n",
    "years = np.arange(1900, 2020+1, 1)\n",
    "\n",
    "def leap_year(years):\n",
    "    leap_year_list = list(map(int, filter(lambda x: x % 400 == 0, years)))\n",
    "    for element in leap_year_list:\n",
    "        years = np.delete(years, np.where(years == element))\n",
    "    non_leap_year_list = list(map(int, filter(lambda x: x % 100 == 0, years)))\n",
    "    for element in non_leap_year_list:\n",
    "        years = np.delete(years, np.where(years == element))\n",
    "    leap_year_list.extend(list(map(int, filter(lambda x: x % 4 == 0, years))))\n",
    "    for element in leap_year_list:\n",
    "        years = np.delete(years, np.where(years == element))\n",
    "    return leap_year_list\n",
    "\n",
    "print(leap_year(years))\n",
    "\n",
    "while True:\n",
    "    try:\n",
    "        month = int(input('Введіть номер місяця: '))\n",
    "        if 1 <= month <= 12:\n",
    "            break\n",
    "        else:\n",
    "            print('Число повинно належати відрізку [1; 12].')\n",
    "    except ValueError:\n",
    "        print('Введіть ціле число.')\n",
    "\n",
    "while True:\n",
    "    try:\n",
    "        year = int(input('Введіть номер року: '))\n",
    "        if 1900 <= year <= 2020:\n",
    "            break\n",
    "        else:\n",
    "            print('Число повинно належати відрізку [1900; 2020].')\n",
    "    except ValueError:\n",
    "        print('Введіть ціле число.')\n",
    "\n",
    "def days_in_month(func, month, year):\n",
    "    leap_year_dict = {1: 31, 2: 29, 3: 31, 4: 30, 5: 31, 6: 30, 7: 31, 8: 31, 9: 30, 10: 31, 11: 30, 12: 31}\n",
    "    non_leap_year_dict = {1: 31, 2: 28, 3: 31, 4: 30, 5: 31, 6: 30, 7: 31, 8: 31, 9: 30, 10: 31, 11: 30, 12: 31}\n",
    "    if year in func(years):\n",
    "        return print(f'У {month} місяці {year} року {leap_year_dict[month]} днів.')\n",
    "    else:\n",
    "        return print(f'У {month} місяці {year} року {non_leap_year_dict[month]} днів.')\n",
    "\n",
    "days_in_month(leap_year, month, year)"
   ]
  }
 ],
 "metadata": {
  "colab": {
   "collapsed_sections": [],
   "name": "Practice_7_KM-01_.ipynb",
   "provenance": []
  },
  "kernelspec": {
   "display_name": "Python 3",
   "name": "python3"
  },
  "language_info": {
   "codemirror_mode": {
    "name": "ipython",
    "version": 3
   },
   "file_extension": ".py",
   "mimetype": "text/x-python",
   "name": "python",
   "nbconvert_exporter": "python",
   "pygments_lexer": "ipython3",
   "version": "3.12.6"
  }
 },
 "nbformat": 4,
 "nbformat_minor": 0
}
